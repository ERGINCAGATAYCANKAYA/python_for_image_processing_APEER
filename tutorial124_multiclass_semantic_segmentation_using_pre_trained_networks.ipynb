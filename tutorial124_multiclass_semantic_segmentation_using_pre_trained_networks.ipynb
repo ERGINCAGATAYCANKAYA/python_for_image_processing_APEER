{
  "nbformat": 4,
  "nbformat_minor": 0,
  "metadata": {
    "colab": {
      "name": "tutorial124_multiclass_semantic_segmentation_using_pre_trained_networks.ipynb",
      "provenance": [],
      "collapsed_sections": [],
      "mount_file_id": "168jrxCaPkKL1Ebv0w0dP7etgzSlurVOM",
      "authorship_tag": "ABX9TyMndus3PkHxSubNat2p0s6J",
      "include_colab_link": true
    },
    "kernelspec": {
      "name": "python3",
      "display_name": "Python 3"
    },
    "language_info": {
      "name": "python"
    },
    "accelerator": "GPU"
  },
  "cells": [
    {
      "cell_type": "markdown",
      "metadata": {
        "id": "view-in-github",
        "colab_type": "text"
      },
      "source": [
        "<a href=\"https://colab.research.google.com/github/bnsreenu/python_for_image_processing_APEER/blob/master/tutorial124_multiclass_semantic_segmentation_using_pre_trained_networks.ipynb\" target=\"_parent\"><img src=\"https://colab.research.google.com/assets/colab-badge.svg\" alt=\"Open In Colab\"/></a>"
      ]
    },
    {
      "cell_type": "markdown",
      "metadata": {
        "id": "vegzBLWaX9Ke"
      },
      "source": [
        "Video link: https://youtu.be/J4SORzikC5I"
      ]
    },
    {
      "cell_type": "markdown",
      "metadata": {
        "id": "SscH4lze36iJ"
      },
      "source": [
        "**Multiclass semantic segmentation - Using pre-trained networks as encoders**\n",
        "\n",
        "(Same content as in tutorial 119 but this time using pre-trained networks as encoders) <p>\n",
        "The dataset used in this video can be downloaded from the link below. This dataset can be used to train and test machine learning algorithms designed for multiclass semantic segmentation. Please read the Readme document for more information. \n",
        "https://drive.google.com/file/d/1HWtBaSa-LTyAMgf2uaz1T9o1sTWDBajU/view?usp=sharing\n",
        "\n",
        "To annotate your own images, please visit www.apeer.com\n",
        "<p>\n",
        "\n",
        "**Segmentation Models Library**\n",
        "\n",
        "https://github.com/qubvel/segmentation_models\n",
        "\n",
        "<p>\n",
        "pip install -U segmentation-models\n",
        "<p>\n",
        "Note: Importing segmentation models library may give you generic_utils \n",
        "error on TF2.x <p>\n",
        "Watch this video to fix the error in Anaconda or colab.\n",
        "\n",
        "https://youtu.be/syJZxDtLujs\n",
        "\n",
        "<p>\n",
        "For colab: When the error shows up, click the __init__.py link in the error message and change..\n",
        "\n",
        "keras.utils.generic_utils.get_custom_objects().update(custom_objects) \n",
        "<p>to<p> \n",
        "keras.utils.get_custom_objects().update(custom_objects) \n",
        "\n",
        "<p>\n",
        "Similarly if you get other errors you can make appropriate edits. For example, in Tensorflow 2.0 or later, you import utils the following way:\n",
        "<p>\n",
        "tensorflow.keras.utils.get_file (or just keras.utils.get_file).\n",
        "<p>\n",
        "If you get an error about keras_utils while you define the model with imagener weights, fix it by clicking on the link in the error and editing the weights_path. (If you are changing the code in the error file (weights.py) to add tensorflow.keras.utils then do not forget to add import tensorflow to that file. \n",
        "<p>\n",
        "Restart runtime after making any changes. \n"
      ]
    },
    {
      "cell_type": "code",
      "metadata": {
        "colab": {
          "base_uri": "https://localhost:8080/"
        },
        "id": "-xndV5r1C-k_",
        "outputId": "da498ca6-755d-48c1-8e25-8262e5e80c98"
      },
      "source": [
        "!pip install -U segmentation-models"
      ],
      "execution_count": null,
      "outputs": [
        {
          "output_type": "stream",
          "text": [
            "Requirement already up-to-date: segmentation-models in /usr/local/lib/python3.7/dist-packages (1.0.1)\n",
            "Requirement already satisfied, skipping upgrade: keras-applications<=1.0.8,>=1.0.7 in /usr/local/lib/python3.7/dist-packages (from segmentation-models) (1.0.8)\n",
            "Requirement already satisfied, skipping upgrade: image-classifiers==1.0.0 in /usr/local/lib/python3.7/dist-packages (from segmentation-models) (1.0.0)\n",
            "Requirement already satisfied, skipping upgrade: efficientnet==1.0.0 in /usr/local/lib/python3.7/dist-packages (from segmentation-models) (1.0.0)\n",
            "Requirement already satisfied, skipping upgrade: h5py in /usr/local/lib/python3.7/dist-packages (from keras-applications<=1.0.8,>=1.0.7->segmentation-models) (3.1.0)\n",
            "Requirement already satisfied, skipping upgrade: numpy>=1.9.1 in /usr/local/lib/python3.7/dist-packages (from keras-applications<=1.0.8,>=1.0.7->segmentation-models) (1.19.5)\n",
            "Requirement already satisfied, skipping upgrade: scikit-image in /usr/local/lib/python3.7/dist-packages (from efficientnet==1.0.0->segmentation-models) (0.16.2)\n",
            "Requirement already satisfied, skipping upgrade: cached-property; python_version < \"3.8\" in /usr/local/lib/python3.7/dist-packages (from h5py->keras-applications<=1.0.8,>=1.0.7->segmentation-models) (1.5.2)\n",
            "Requirement already satisfied, skipping upgrade: networkx>=2.0 in /usr/local/lib/python3.7/dist-packages (from scikit-image->efficientnet==1.0.0->segmentation-models) (2.5.1)\n",
            "Requirement already satisfied, skipping upgrade: PyWavelets>=0.4.0 in /usr/local/lib/python3.7/dist-packages (from scikit-image->efficientnet==1.0.0->segmentation-models) (1.1.1)\n",
            "Requirement already satisfied, skipping upgrade: pillow>=4.3.0 in /usr/local/lib/python3.7/dist-packages (from scikit-image->efficientnet==1.0.0->segmentation-models) (7.1.2)\n",
            "Requirement already satisfied, skipping upgrade: matplotlib!=3.0.0,>=2.0.0 in /usr/local/lib/python3.7/dist-packages (from scikit-image->efficientnet==1.0.0->segmentation-models) (3.2.2)\n",
            "Requirement already satisfied, skipping upgrade: scipy>=0.19.0 in /usr/local/lib/python3.7/dist-packages (from scikit-image->efficientnet==1.0.0->segmentation-models) (1.4.1)\n",
            "Requirement already satisfied, skipping upgrade: imageio>=2.3.0 in /usr/local/lib/python3.7/dist-packages (from scikit-image->efficientnet==1.0.0->segmentation-models) (2.4.1)\n",
            "Requirement already satisfied, skipping upgrade: decorator<5,>=4.3 in /usr/local/lib/python3.7/dist-packages (from networkx>=2.0->scikit-image->efficientnet==1.0.0->segmentation-models) (4.4.2)\n",
            "Requirement already satisfied, skipping upgrade: kiwisolver>=1.0.1 in /usr/local/lib/python3.7/dist-packages (from matplotlib!=3.0.0,>=2.0.0->scikit-image->efficientnet==1.0.0->segmentation-models) (1.3.1)\n",
            "Requirement already satisfied, skipping upgrade: cycler>=0.10 in /usr/local/lib/python3.7/dist-packages (from matplotlib!=3.0.0,>=2.0.0->scikit-image->efficientnet==1.0.0->segmentation-models) (0.10.0)\n",
            "Requirement already satisfied, skipping upgrade: python-dateutil>=2.1 in /usr/local/lib/python3.7/dist-packages (from matplotlib!=3.0.0,>=2.0.0->scikit-image->efficientnet==1.0.0->segmentation-models) (2.8.1)\n",
            "Requirement already satisfied, skipping upgrade: pyparsing!=2.0.4,!=2.1.2,!=2.1.6,>=2.0.1 in /usr/local/lib/python3.7/dist-packages (from matplotlib!=3.0.0,>=2.0.0->scikit-image->efficientnet==1.0.0->segmentation-models) (2.4.7)\n",
            "Requirement already satisfied, skipping upgrade: six in /usr/local/lib/python3.7/dist-packages (from cycler>=0.10->matplotlib!=3.0.0,>=2.0.0->scikit-image->efficientnet==1.0.0->segmentation-models) (1.15.0)\n"
          ],
          "name": "stdout"
        }
      ]
    },
    {
      "cell_type": "code",
      "metadata": {
        "colab": {
          "base_uri": "https://localhost:8080/"
        },
        "id": "MbKCcMhcFFSB",
        "outputId": "e04bb533-3c4d-43f3-9dde-047c6d838198"
      },
      "source": [
        "import segmentation_models as sm"
      ],
      "execution_count": null,
      "outputs": [
        {
          "output_type": "stream",
          "text": [
            "Segmentation Models: using `keras` framework.\n"
          ],
          "name": "stdout"
        }
      ]
    },
    {
      "cell_type": "code",
      "metadata": {
        "colab": {
          "base_uri": "https://localhost:8080/"
        },
        "id": "0b19ENI0n44l",
        "outputId": "47ee1011-07c8-441a-c33a-818f880da4f9"
      },
      "source": [
        "import keras\n",
        "import tensorflow as tf\n",
        "print(keras.__version__)\n",
        "print(tf.__version__)"
      ],
      "execution_count": null,
      "outputs": [
        {
          "output_type": "stream",
          "text": [
            "2.5.0\n",
            "2.5.0\n"
          ],
          "name": "stdout"
        }
      ]
    },
    {
      "cell_type": "code",
      "metadata": {
        "id": "I0NRq8jOY5bX"
      },
      "source": [
        "#from keras.utils import normalize\n",
        "import os\n",
        "import glob\n",
        "import cv2\n",
        "import numpy as np\n",
        "from matplotlib import pyplot as plt"
      ],
      "execution_count": null,
      "outputs": []
    },
    {
      "cell_type": "code",
      "metadata": {
        "id": "3MJ7xjSDZDJZ"
      },
      "source": [
        "#Resizing images, if needed\n",
        "SIZE_X = 128 \n",
        "SIZE_Y = 128\n",
        "n_classes=4 #Number of classes for segmentation\n",
        "num_images = 50  #Total 1600 available"
      ],
      "execution_count": null,
      "outputs": []
    },
    {
      "cell_type": "code",
      "metadata": {
        "id": "e-qxgNa8ZQ_H"
      },
      "source": [
        "image_names = glob.glob(\"/content/drive/MyDrive/Colab Notebooks/data/sandstone/128_patches/images/*.tif\")\n",
        "image_names.sort()\n",
        "image_names_subset = image_names[0:num_images]\n",
        "images = [cv2.imread(image, 1) for image in image_names_subset] #SM backbones use 3 channel images, so let us read images in color.\n",
        "image_dataset = np.array(images)\n",
        "#image_dataset = np.expand_dims(image_dataset, axis = 3)"
      ],
      "execution_count": null,
      "outputs": []
    },
    {
      "cell_type": "code",
      "metadata": {
        "id": "JMVZCMFPZGPX"
      },
      "source": [
        "mask_names = glob.glob(\"/content/drive/MyDrive/Colab Notebooks/data/sandstone/128_patches/masks/*.tif\")\n",
        "mask_names.sort()\n",
        "mask_names_subset = mask_names[0:num_images]\n",
        "masks = [cv2.imread(mask, 0) for mask in mask_names_subset]\n",
        "mask_dataset = np.array(masks)\n"
      ],
      "execution_count": null,
      "outputs": []
    },
    {
      "cell_type": "code",
      "metadata": {
        "colab": {
          "base_uri": "https://localhost:8080/"
        },
        "id": "QzAouaVaZoVg",
        "outputId": "11031a40-9124-4c70-d370-fe6ef7a0172f"
      },
      "source": [
        "print(\"Total images in the original dataset are: \", len(image_names))\n",
        "print(\"Image data shape is: \", image_dataset.shape)\n",
        "print(\"Mask data shape is: \", mask_dataset.shape)\n",
        "print(\"Max pixel value in image is: \", image_dataset.max())\n",
        "print(\"Labels in the mask are : \", np.unique(mask_dataset))"
      ],
      "execution_count": null,
      "outputs": [
        {
          "output_type": "stream",
          "text": [
            "Total images in the original dataset are:  1600\n",
            "Image data shape is:  (50, 128, 128, 3)\n",
            "Mask data shape is:  (50, 128, 128)\n",
            "Max pixel value in image is:  255\n",
            "Labels in the mask are :  [1 2 3 4]\n"
          ],
          "name": "stdout"
        }
      ]
    },
    {
      "cell_type": "code",
      "metadata": {
        "colab": {
          "base_uri": "https://localhost:8080/"
        },
        "id": "ibHIDZGfZkTh",
        "outputId": "03a20302-290b-413c-cf3f-c078639e174d"
      },
      "source": [
        "#Encode labels to 0, 1, 2, 3, ... but multi dim array so need to flatten, encode and reshape\n",
        "from sklearn.preprocessing import LabelEncoder\n",
        "labelencoder = LabelEncoder()\n",
        "n, h, w = mask_dataset.shape  \n",
        "mask_dataset_reshaped = mask_dataset.reshape(-1,1)\n",
        "mask_dataset_reshaped_encoded = labelencoder.fit_transform(mask_dataset_reshaped)\n",
        "mask_dataset_encoded = mask_dataset_reshaped_encoded.reshape(n, h, w)\n",
        "\n",
        "np.unique(mask_dataset_encoded)"
      ],
      "execution_count": null,
      "outputs": [
        {
          "output_type": "stream",
          "text": [
            "/usr/local/lib/python3.7/dist-packages/sklearn/preprocessing/_label.py:251: DataConversionWarning: A column-vector y was passed when a 1d array was expected. Please change the shape of y to (n_samples, ), for example using ravel().\n",
            "  y = column_or_1d(y, warn=True)\n"
          ],
          "name": "stderr"
        },
        {
          "output_type": "execute_result",
          "data": {
            "text/plain": [
              "array([0, 1, 2, 3])"
            ]
          },
          "metadata": {
            "tags": []
          },
          "execution_count": 11
        }
      ]
    },
    {
      "cell_type": "code",
      "metadata": {
        "colab": {
          "base_uri": "https://localhost:8080/"
        },
        "id": "QDQ_8v3FhENA",
        "outputId": "4a389711-f929-471f-fae6-b85a10b1da2f"
      },
      "source": [
        "mask_dataset_encoded = np.expand_dims(mask_dataset_encoded, axis = 3)\n",
        "print(mask_dataset_encoded.shape)"
      ],
      "execution_count": null,
      "outputs": [
        {
          "output_type": "stream",
          "text": [
            "(50, 128, 128, 1)\n"
          ],
          "name": "stdout"
        }
      ]
    },
    {
      "cell_type": "code",
      "metadata": {
        "id": "9SgFwOThZs_A"
      },
      "source": [
        "#Normalize images\n",
        "image_dataset = image_dataset /255.  #Can also normalize or scale using MinMax scaler"
      ],
      "execution_count": null,
      "outputs": []
    },
    {
      "cell_type": "code",
      "metadata": {
        "id": "IMZPM7edZ4nN"
      },
      "source": [
        "#Split training data\n",
        "from sklearn.model_selection import train_test_split\n",
        "X_train, X_test, y_train, y_test = train_test_split(image_dataset, mask_dataset_encoded, test_size = 0.2, random_state = 42)"
      ],
      "execution_count": null,
      "outputs": []
    },
    {
      "cell_type": "code",
      "metadata": {
        "id": "Yh2fI72laFn1"
      },
      "source": [
        "from tensorflow.keras.utils import to_categorical\n",
        "train_masks_cat = to_categorical(y_train, num_classes=n_classes)\n",
        "y_train_cat = train_masks_cat.reshape((y_train.shape[0], y_train.shape[1], y_train.shape[2], n_classes))\n",
        "\n",
        "test_masks_cat = to_categorical(y_test, num_classes=n_classes)\n",
        "y_test_cat = test_masks_cat.reshape((y_test.shape[0], y_test.shape[1], y_test.shape[2], n_classes))"
      ],
      "execution_count": null,
      "outputs": []
    },
    {
      "cell_type": "code",
      "metadata": {
        "colab": {
          "base_uri": "https://localhost:8080/"
        },
        "id": "CDMoprb5hrvY",
        "outputId": "0b752a09-9f66-44cb-c852-340d4b60e91b"
      },
      "source": [
        "print(y_train_cat.shape)"
      ],
      "execution_count": null,
      "outputs": [
        {
          "output_type": "stream",
          "text": [
            "(40, 128, 128, 4)\n"
          ],
          "name": "stdout"
        }
      ]
    },
    {
      "cell_type": "code",
      "metadata": {
        "id": "hWfxq9x3Hlfb"
      },
      "source": [
        "#Reused parameters in all models\n",
        "import tensorflow\n",
        "n_classes=4\n",
        "activation='softmax'\n",
        "\n",
        "LR = 0.0001\n",
        "optim = tensorflow.keras.optimizers.Adam(LR)\n",
        "\n",
        "# Segmentation models losses can be combined together by '+' and scaled by integer or float factor\n",
        "dice_loss = sm.losses.DiceLoss() \n",
        "focal_loss = sm.losses.CategoricalFocalLoss()\n",
        "total_loss = dice_loss + (1 * focal_loss)\n",
        "\n",
        "# actulally total_loss can be imported directly from library, above example just show you how to manipulate with losses\n",
        "# total_loss = sm.losses.binary_focal_dice_loss # or sm.losses.categorical_focal_dice_loss \n",
        "\n",
        "metrics = [sm.metrics.IOUScore(threshold=0.5), sm.metrics.FScore(threshold=0.5)]"
      ],
      "execution_count": null,
      "outputs": []
    },
    {
      "cell_type": "code",
      "metadata": {
        "id": "pAuxNTU_Hw6h"
      },
      "source": [
        "###Model \n",
        "BACKBONE = 'resnet34'\n",
        "preprocess_input = sm.get_preprocessing(BACKBONE)\n",
        "\n",
        "# preprocess input\n",
        "X_train_processed = preprocess_input(X_train)\n",
        "X_test_processed = preprocess_input(X_test)\n"
      ],
      "execution_count": null,
      "outputs": []
    },
    {
      "cell_type": "code",
      "metadata": {
        "id": "aK_6cKUcMxqm"
      },
      "source": [
        "# define model\n",
        "model = sm.Unet(BACKBONE, encoder_weights='imagenet', classes=n_classes, activation=activation)\n",
        "\n",
        "# compile keras model with defined optimozer, loss and metrics\n",
        "model.compile(optim, total_loss, metrics=metrics)\n",
        "\n",
        "#model.compile(optimizer='adam', loss='categorical_crossentropy', metrics=metrics)\n",
        "\n",
        "print(model.summary())"
      ],
      "execution_count": null,
      "outputs": []
    },
    {
      "cell_type": "code",
      "metadata": {
        "id": "m5ubOLitJJu0"
      },
      "source": [
        "history=model.fit(X_train_processed, \n",
        "          y_train_cat,\n",
        "          batch_size=8, \n",
        "          epochs=50,\n",
        "          verbose=1,\n",
        "          validation_data=(X_test_processed, y_test_cat))\n",
        "\n",
        "\n",
        "model.save('/content/drive/MyDrive/Colab Notebooks/saved_models/res34_backbone_n_epochs.hdf5')"
      ],
      "execution_count": null,
      "outputs": []
    },
    {
      "cell_type": "code",
      "metadata": {
        "id": "iVibZ6c1ao7P"
      },
      "source": [
        "#plot the training and validation accuracy and loss at each epoch\n",
        "loss = history.history['loss']\n",
        "val_loss = history.history['val_loss']\n",
        "epochs = range(1, len(loss) + 1)\n",
        "plt.plot(epochs, loss, 'y', label='Training loss')\n",
        "plt.plot(epochs, val_loss, 'r', label='Validation loss')\n",
        "plt.title('Training and validation loss')\n",
        "plt.xlabel('Epochs')\n",
        "plt.ylabel('Loss')\n",
        "plt.legend()\n",
        "plt.show()\n",
        "\n",
        "acc = history.history['iou_score']\n",
        "val_acc = history.history['val_iou_score']\n",
        "\n",
        "plt.plot(epochs, acc, 'y', label='Training IOU')\n",
        "plt.plot(epochs, val_acc, 'r', label='Validation IOU')\n",
        "plt.title('Training and validation IOU')\n",
        "plt.xlabel('Epochs')\n",
        "plt.ylabel('IOU')\n",
        "plt.legend()\n",
        "plt.show()"
      ],
      "execution_count": null,
      "outputs": []
    },
    {
      "cell_type": "code",
      "metadata": {
        "id": "JxMS1OkiITMP"
      },
      "source": [
        "from keras.models import load_model\n",
        "\n",
        "### FOR NOW LET US FOCUS ON A SINGLE MODEL\n",
        "\n",
        "#Set compile=False as we are not loading it for training, only for prediction.\n",
        "model = load_model('/content/drive/MyDrive/Colab Notebooks/saved_models/res34_backbone_50epochs.hdf5', compile=False)\n"
      ],
      "execution_count": null,
      "outputs": []
    },
    {
      "cell_type": "code",
      "metadata": {
        "id": "5SIBIick5n68"
      },
      "source": [
        "#IOU\n",
        "from keras.metrics import MeanIoU\n",
        "y_pred=model.predict(X_test_processed)\n",
        "y_pred_argmax=np.argmax(y_pred, axis=3)"
      ],
      "execution_count": null,
      "outputs": []
    },
    {
      "cell_type": "code",
      "metadata": {
        "colab": {
          "base_uri": "https://localhost:8080/"
        },
        "id": "8FW3mE-4QSQW",
        "outputId": "356fecdb-20b9-4ce5-c824-a3553208d7ce"
      },
      "source": [
        "#Using built in keras function\n",
        "#from keras.metrics import MeanIoU\n",
        "n_classes = 4\n",
        "IOU_keras = MeanIoU(num_classes=n_classes)  \n",
        "IOU_keras.update_state(y_test[:,:,:,0], y_pred_argmax)\n",
        "print(\"Mean IoU =\", IOU_keras.result().numpy())"
      ],
      "execution_count": null,
      "outputs": [
        {
          "output_type": "stream",
          "text": [
            "Mean IoU = 0.91944844\n"
          ],
          "name": "stdout"
        }
      ]
    },
    {
      "cell_type": "code",
      "metadata": {
        "colab": {
          "base_uri": "https://localhost:8080/"
        },
        "id": "40TPPa9v5s4y",
        "outputId": "3a3f27df-f275-4717-c472-35f72acdeb9a"
      },
      "source": [
        "#To calculate I0U for each class...\n",
        "values = np.array(IOU_keras.get_weights()).reshape(n_classes, n_classes)\n",
        "print(values)\n",
        "class1_IoU = values[0,0]/(values[0,0] + values[0,1] + values[0,2] + values[0,3] + values[1,0]+ values[2,0]+ values[3,0])\n",
        "class2_IoU = values[1,1]/(values[1,1] + values[1,0] + values[1,2] + values[1,3] + values[0,1]+ values[2,1]+ values[3,1])\n",
        "class3_IoU = values[2,2]/(values[2,2] + values[2,0] + values[2,1] + values[2,3] + values[0,2]+ values[1,2]+ values[3,2])\n",
        "class4_IoU = values[3,3]/(values[3,3] + values[3,0] + values[3,1] + values[3,2] + values[0,3]+ values[1,3]+ values[2,3])\n",
        "\n",
        "print(\"IoU for class1 is: \", class1_IoU)\n",
        "print(\"IoU for class2 is: \", class2_IoU)\n",
        "print(\"IoU for class3 is: \", class3_IoU)\n",
        "print(\"IoU for class4 is: \", class4_IoU)\n",
        "\n",
        "#"
      ],
      "execution_count": null,
      "outputs": [
        {
          "output_type": "stream",
          "text": [
            "[[1.34870e+04 2.41000e+02 2.45000e+02 0.00000e+00]\n",
            " [3.96000e+02 1.53890e+04 4.24000e+02 0.00000e+00]\n",
            " [2.90000e+02 2.12800e+03 1.28647e+05 1.10000e+01]\n",
            " [0.00000e+00 0.00000e+00 1.09000e+02 2.47300e+03]]\n",
            "IoU for class1 is:  0.92004913\n",
            "IoU for class2 is:  0.82834536\n",
            "IoU for class3 is:  0.97567767\n",
            "IoU for class4 is:  0.9537216\n"
          ],
          "name": "stdout"
        }
      ]
    },
    {
      "cell_type": "code",
      "metadata": {
        "colab": {
          "base_uri": "https://localhost:8080/",
          "height": 261
        },
        "id": "RibAT2kzRFxY",
        "outputId": "7082bf62-6641-49b0-c3e1-dfad1d1f3564"
      },
      "source": [
        "import random\n",
        "img_number = random.randint(0, len(X_test_processed)-1)\n",
        "img = X_test_processed[img_number]\n",
        "mask = y_test[img_number]\n",
        "prediction = y_pred_argmax[img_number]\n",
        "\n",
        "\n",
        "plt.figure(figsize=(12, 8))\n",
        "plt.subplot(231)\n",
        "plt.title('Image')\n",
        "plt.imshow(img, cmap='gray')\n",
        "plt.subplot(232)\n",
        "plt.title('Mask')\n",
        "plt.imshow(mask[:,:,0])\n",
        "plt.subplot(233)\n",
        "plt.title('Prediction')\n",
        "plt.imshow(prediction)\n",
        "plt.show()"
      ],
      "execution_count": null,
      "outputs": [
        {
          "output_type": "display_data",
          "data": {
            "image/png": "[encoded data removed]",
            "text/plain": [
              "<Figure size 864x576 with 3 Axes>"
            ]
          },
          "metadata": {
            "tags": [],
            "needs_background": "light"
          }
        }
      ]
    }
  ]
}